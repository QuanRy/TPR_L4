{
  "nbformat": 4,
  "nbformat_minor": 0,
  "metadata": {
    "colab": {
      "provenance": [],
      "authorship_tag": "ABX9TyORXgVNjdJyRQEG/jdE30qv",
      "include_colab_link": true
    },
    "kernelspec": {
      "name": "python3",
      "display_name": "Python 3"
    },
    "language_info": {
      "name": "python"
    }
  },
  "cells": [
    {
      "cell_type": "markdown",
      "metadata": {
        "id": "view-in-github",
        "colab_type": "text"
      },
      "source": [
        "<a href=\"https://colab.research.google.com/github/QuanRy/TPR_L4/blob/main/lab4_TPR_NumPy_Tasks.ipynb\" target=\"_parent\"><img src=\"https://colab.research.google.com/assets/colab-badge.svg\" alt=\"Open In Colab\"/></a>"
      ]
    },
    {
      "cell_type": "markdown",
      "source": [
        "\n",
        "# **Задание по библиотеке NumPy**"
      ],
      "metadata": {
        "id": "j5-KrZldR5PI"
      }
    },
    {
      "cell_type": "markdown",
      "source": [
        "Скачаем и просмотрим версию установленной библиотеки NumPy"
      ],
      "metadata": {
        "id": "SRG9fz_YR9m9"
      }
    },
    {
      "cell_type": "code",
      "execution_count": 1,
      "metadata": {
        "colab": {
          "base_uri": "https://localhost:8080/"
        },
        "id": "pw0APT5JRzRo",
        "outputId": "49b84b5b-cfab-409e-b447-4f603d7c2a77"
      },
      "outputs": [
        {
          "output_type": "stream",
          "name": "stdout",
          "text": [
            "1.26.4\n"
          ]
        }
      ],
      "source": [
        "\n",
        "import numpy as np\n",
        "\n",
        "print(np.__version__)"
      ]
    },
    {
      "cell_type": "markdown",
      "source": [
        "Заполним матрицу M"
      ],
      "metadata": {
        "id": "BgqHZA-DSJOW"
      }
    },
    {
      "cell_type": "code",
      "source": [
        "size = 85\n",
        "\n",
        "M = 2 * np.ones((size, size), dtype=int)\n",
        "np.fill_diagonal(M, 2 * np.arange(size) + 3)\n",
        "print('M =\\n', M)"
      ],
      "metadata": {
        "colab": {
          "base_uri": "https://localhost:8080/"
        },
        "id": "QG67WeIhSM0N",
        "outputId": "8517ceb8-a533-45d5-cdfb-2919b5bd28fb"
      },
      "execution_count": 2,
      "outputs": [
        {
          "output_type": "stream",
          "name": "stdout",
          "text": [
            "M =\n",
            " [[  3   2   2 ...   2   2   2]\n",
            " [  2   5   2 ...   2   2   2]\n",
            " [  2   2   7 ...   2   2   2]\n",
            " ...\n",
            " [  2   2   2 ... 167   2   2]\n",
            " [  2   2   2 ...   2 169   2]\n",
            " [  2   2   2 ...   2   2 171]]\n"
          ]
        }
      ]
    },
    {
      "cell_type": "markdown",
      "source": [
        "\n",
        "Заполнение матрицы N:"
      ],
      "metadata": {
        "id": "AjWFi7v-S1Uh"
      }
    },
    {
      "cell_type": "code",
      "source": [
        "N = np.zeros((size, size), dtype=int)\n",
        "\n",
        "# Четные строки\n",
        "N[::2, :] = 4\n",
        "N[::2, 2::3] = 5\n",
        "\n",
        "# Нечетные строки\n",
        "N[1::2, :] = 4\n",
        "N[1::2, 1::2] = 7\n",
        "\n",
        "print('N =\\n', N)"
      ],
      "metadata": {
        "colab": {
          "base_uri": "https://localhost:8080/"
        },
        "id": "_GRDk4vRS1YW",
        "outputId": "58fe5f11-94dd-41e5-bdf4-a37d5a9d3f6f"
      },
      "execution_count": 3,
      "outputs": [
        {
          "output_type": "stream",
          "name": "stdout",
          "text": [
            "N =\n",
            " [[4 4 5 ... 4 5 4]\n",
            " [4 7 4 ... 4 7 4]\n",
            " [4 4 5 ... 4 5 4]\n",
            " ...\n",
            " [4 4 5 ... 4 5 4]\n",
            " [4 7 4 ... 4 7 4]\n",
            " [4 4 5 ... 4 5 4]]\n"
          ]
        }
      ]
    },
    {
      "cell_type": "markdown",
      "source": [
        "Вычисление вектора p:"
      ],
      "metadata": {
        "id": "ululE4vnTcu_"
      }
    },
    {
      "cell_type": "code",
      "source": [
        "p = 1 + np.random.normal(loc=2, scale=2, size=size) # (стандартное отклонение)\n",
        "print('p =', p)"
      ],
      "metadata": {
        "colab": {
          "base_uri": "https://localhost:8080/"
        },
        "id": "Agw1q3XGTDGz",
        "outputId": "e6704ac2-6e5b-43b4-ab90-58d8ae5c5082"
      },
      "execution_count": 4,
      "outputs": [
        {
          "output_type": "stream",
          "name": "stdout",
          "text": [
            "p = [ 0.21048402 -0.05519026  2.00063836  3.1126535   0.58436661  0.49484747\n",
            "  2.33339703  4.36735096  6.07149655  3.17584096  0.09031041  1.28899955\n",
            "  0.62807759  4.18201629  4.47189868  4.77858302  1.66723913  0.85956243\n",
            "  3.57272713  3.38775357  2.61211426  1.5339628  -0.86409218  4.76669118\n",
            " -0.03710382  5.01543254  4.09005499 -0.40957942  1.57293888  4.74250679\n",
            "  0.43066414  0.67543393  3.15846304  5.97913382  5.23969066  5.83544216\n",
            "  2.21082961  3.16374504  0.75008436  4.88710653  2.42970615  3.26899215\n",
            "  1.55567797  2.26060128  6.51631724  1.77210769  4.01516895  1.54180533\n",
            "  3.71117988  4.54598378  4.99088406  5.72632141  4.05104567  5.60426352\n",
            "  2.37900359  5.60204488  4.55183556  2.26611473  3.07662803 -1.2437355\n",
            "  4.56553937  2.92010651  3.39593078  0.93280594  4.59448623  3.61526294\n",
            "  2.9046215   3.19652671  1.22710872  3.61283906  2.25789997 -0.20361466\n",
            "  1.37631297  5.29575273  2.58807541  5.19593945  5.40445514  4.05330475\n",
            "  3.68506345  3.60906529 -1.24272164  4.70618564  1.97819278  4.86834618\n",
            "  4.27382364]\n"
          ]
        }
      ]
    },
    {
      "cell_type": "markdown",
      "source": [
        "\n",
        "Вычисление вектора q:"
      ],
      "metadata": {
        "id": "orkCeAVTTjcA"
      }
    },
    {
      "cell_type": "code",
      "source": [
        "qT = np.multiply(N[24, :size], N[71, :size])\n",
        "q = qT.T\n",
        "print('q =', q)"
      ],
      "metadata": {
        "colab": {
          "base_uri": "https://localhost:8080/"
        },
        "id": "Vf7Mpsa9Tk2X",
        "outputId": "07303cb9-2b5f-469a-a630-7e7af42b1961"
      },
      "execution_count": 5,
      "outputs": [
        {
          "output_type": "stream",
          "name": "stdout",
          "text": [
            "q = [16 28 20 28 16 35 16 28 20 28 16 35 16 28 20 28 16 35 16 28 20 28 16 35\n",
            " 16 28 20 28 16 35 16 28 20 28 16 35 16 28 20 28 16 35 16 28 20 28 16 35\n",
            " 16 28 20 28 16 35 16 28 20 28 16 35 16 28 20 28 16 35 16 28 20 28 16 35\n",
            " 16 28 20 28 16 35 16 28 20 28 16 35 16]\n"
          ]
        }
      ]
    },
    {
      "cell_type": "markdown",
      "source": [
        "Вычисление f"
      ],
      "metadata": {
        "id": "TB6MEo_NZAAF"
      }
    },
    {
      "cell_type": "code",
      "source": [
        "# Шаг 1: Вычисление g\n",
        "M_submatrix = M[24:70, 13:28]  # Извлекаем подматрицу M для индексов от 24 до 69 и от 13 до 27\n",
        "p_subvector = p[13:28]  # Извлекаем подмассив p для индексов от 13 до 27\n",
        "\n",
        "# Вычисляем (7 * 10^(-6) * M * p)^2 и суммируем по всем элементам\n",
        "g = np.sum(((const * M_submatrix * p_subvector)**2).prod(axis=1))\n",
        "\n",
        "# Шаг 2: Вычисление f\n",
        "q_squared = q**2  # Возводим в квадрат\n",
        "k_star = np.argmax(q_squared)  # Находим индекс k*, для которого q_k^2 максимален\n",
        "f = 4 * N[k_star, k_star]\n",
        "\n",
        "# Результаты\n",
        "print(f\"Результат вычисления g: {g:.2f}\")\n",
        "print(f\"Результат вычисления f: {f}\")"
      ],
      "metadata": {
        "colab": {
          "base_uri": "https://localhost:8080/"
        },
        "id": "ynA6lENSZAVb",
        "outputId": "9a661adc-a84d-4600-be3a-8573fe0d6f12"
      },
      "execution_count": 13,
      "outputs": [
        {
          "output_type": "stream",
          "name": "stdout",
          "text": [
            "Результат вычисления g: 0.00\n",
            "Результат вычисления f: 28\n"
          ]
        }
      ]
    }
  ]
}